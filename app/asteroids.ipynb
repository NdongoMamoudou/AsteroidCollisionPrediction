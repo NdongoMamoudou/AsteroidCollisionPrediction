{
 "cells": [
  {
   "cell_type": "code",
   "execution_count": 3,
   "metadata": {},
   "outputs": [],
   "source": [
    "from pyspark.sql import SparkSession\n",
    "from pyspark.sql.functions import col\n",
    "from pyspark.sql.functions import col, when, sum , sqrt\n",
    "from pyspark.ml.feature import StandardScaler\n",
    "from pyspark.ml.feature import VectorAssembler\n",
    "from pyspark.ml.feature import StandardScaler\n",
    "from pyspark.ml.classification import LogisticRegression\n",
    "from pyspark.ml.evaluation import BinaryClassificationEvaluator\n"
   ]
  },
  {
   "cell_type": "code",
   "execution_count": 4,
   "metadata": {},
   "outputs": [],
   "source": [
    "# Création de la session Spark\n",
    "spark = SparkSession.builder.appName(\"AsteroidsApp\").getOrCreate()\n"
   ]
  },
  {
   "cell_type": "code",
   "execution_count": 5,
   "metadata": {},
   "outputs": [],
   "source": [
    "# Lecture du CSV\n",
    "df = spark.read.option(\"header\", True).csv(\"hdfs://namenode:9000/user/hdfs/kafka_data/celestial_bodies.csv\")"
   ]
  },
  {
   "cell_type": "code",
   "execution_count": 6,
   "metadata": {},
   "outputs": [
    {
     "name": "stdout",
     "output_type": "stream",
     "text": [
      "+------------+--------+------------------+-----+----------+----------+----------+-----+------+------+\n",
      "|          id|    type|              mass| size|         x|         y|         z|   vx|    vy|    vz|\n",
      "+------------+--------+------------------+-----+----------+----------+----------+-----+------+------+\n",
      "|       Earth|  planet|         5.972e+24|12742|       0.0|       0.0|       0.0|  0.0|   0.0|   0.0|\n",
      "|asteroid_446|asteroid| 336886339164360.7|  0.8|-143630.08|-436397.17|-626138.25|35.65| 49.13|-21.85|\n",
      "|asteroid_900|asteroid| 681347178525166.1| 1.69| 875856.09|-926660.97|-953095.68|48.64|-10.68|  5.82|\n",
      "|asteroid_843|asteroid|382792374092527.25| 6.88| 576717.94| 708441.61|-406502.13|23.86|-27.71|-39.67|\n",
      "|asteroid_644|asteroid| 850435931469795.2| 6.65|  448828.6|-223273.45|-408345.01|24.22|-10.28| 26.99|\n",
      "+------------+--------+------------------+-----+----------+----------+----------+-----+------+------+\n",
      "only showing top 5 rows\n",
      "\n"
     ]
    }
   ],
   "source": [
    "df.show(5)"
   ]
  },
  {
   "cell_type": "code",
   "execution_count": 7,
   "metadata": {},
   "outputs": [],
   "source": [
    "# Conversion des colonnes en types numériques\n",
    "df = df.withColumn(\"mass\", col(\"mass\").cast(\"double\")) \\\n",
    "       .withColumn(\"size\", col(\"size\").cast(\"double\")) \\\n",
    "       .withColumn(\"x\", col(\"x\").cast(\"double\")) \\\n",
    "       .withColumn(\"y\", col(\"y\").cast(\"double\")) \\\n",
    "       .withColumn(\"z\", col(\"z\").cast(\"double\")) \\\n",
    "       .withColumn(\"vx\", col(\"vx\").cast(\"double\")) \\\n",
    "       .withColumn(\"vy\", col(\"vy\").cast(\"double\")) \\\n",
    "       .withColumn(\"vz\", col(\"vz\").cast(\"double\"))"
   ]
  },
  {
   "cell_type": "code",
   "execution_count": 8,
   "metadata": {},
   "outputs": [
    {
     "name": "stdout",
     "output_type": "stream",
     "text": [
      "+------------+--------+--------------------+-------+----------+----------+----------+-----+------+------+\n",
      "|          id|    type|                mass|   size|         x|         y|         z|   vx|    vy|    vz|\n",
      "+------------+--------+--------------------+-------+----------+----------+----------+-----+------+------+\n",
      "|       Earth|  planet|            5.972E24|12742.0|       0.0|       0.0|       0.0|  0.0|   0.0|   0.0|\n",
      "|asteroid_446|asteroid|3.368863391643607E14|    0.8|-143630.08|-436397.17|-626138.25|35.65| 49.13|-21.85|\n",
      "|asteroid_900|asteroid|6.813471785251661E14|   1.69| 875856.09|-926660.97|-953095.68|48.64|-10.68|  5.82|\n",
      "|asteroid_843|asteroid|3.827923740925272...|   6.88| 576717.94| 708441.61|-406502.13|23.86|-27.71|-39.67|\n",
      "|asteroid_644|asteroid|8.504359314697952E14|   6.65|  448828.6|-223273.45|-408345.01|24.22|-10.28| 26.99|\n",
      "+------------+--------+--------------------+-------+----------+----------+----------+-----+------+------+\n",
      "only showing top 5 rows\n",
      "\n"
     ]
    }
   ],
   "source": [
    "df.show(5)"
   ]
  },
  {
   "cell_type": "markdown",
   "metadata": {},
   "source": [
    "## Analyser le dataframe"
   ]
  },
  {
   "cell_type": "code",
   "execution_count": 9,
   "metadata": {},
   "outputs": [
    {
     "data": {
      "text/plain": [
       "[('id', 'string'),\n",
       " ('type', 'string'),\n",
       " ('mass', 'double'),\n",
       " ('size', 'double'),\n",
       " ('x', 'double'),\n",
       " ('y', 'double'),\n",
       " ('z', 'double'),\n",
       " ('vx', 'double'),\n",
       " ('vy', 'double'),\n",
       " ('vz', 'double')]"
      ]
     },
     "execution_count": 9,
     "metadata": {},
     "output_type": "execute_result"
    }
   ],
   "source": [
    "df.dtypes"
   ]
  },
  {
   "cell_type": "code",
   "execution_count": 10,
   "metadata": {},
   "outputs": [
    {
     "name": "stdout",
     "output_type": "stream",
     "text": [
      "+---+----+----+----+---+---+---+---+---+---+\n",
      "| id|type|mass|size|  x|  y|  z| vx| vy| vz|\n",
      "+---+----+----+----+---+---+---+---+---+---+\n",
      "|  0|   0|   0|   0|  0|  0|  0|  0|  0|  0|\n",
      "+---+----+----+----+---+---+---+---+---+---+\n",
      "\n"
     ]
    }
   ],
   "source": [
    "# Compter les valeurs NULL dans toutes les colonnes\n",
    "df.select([sum(when(col(c).isNull(), 1).otherwise(0)).alias(c) for c in df.columns]).show()"
   ]
  },
  {
   "cell_type": "markdown",
   "metadata": {},
   "source": [
    "## traitement du dataframe"
   ]
  },
  {
   "cell_type": "markdown",
   "metadata": {},
   "source": [
    "##  Calcul de la position future de l'astéroïde après 1 an (en secondes)"
   ]
  },
  {
   "cell_type": "code",
   "execution_count": 11,
   "metadata": {},
   "outputs": [],
   "source": [
    "# Temps en secondes pour 1 an\n",
    "time_in_seconds = 365 * 24 * 3600 * 5"
   ]
  },
  {
   "cell_type": "code",
   "execution_count": 12,
   "metadata": {},
   "outputs": [],
   "source": [
    "# Calcul de la position future pour chaque astéroïde\n",
    "df_future = df.withColumn(\n",
    "    \"future_x\", col(\"x\") + col(\"vx\") * time_in_seconds\n",
    ").withColumn(\n",
    "    \"future_y\", col(\"y\") + col(\"vy\") * time_in_seconds\n",
    ").withColumn(\n",
    "    \"future_z\", col(\"z\") + col(\"vz\") * time_in_seconds\n",
    ")"
   ]
  },
  {
   "cell_type": "code",
   "execution_count": 13,
   "metadata": {},
   "outputs": [],
   "source": [
    "# Calcul de la distance entre l'astéroïde et la Terre (position de la Terre est (0, 0, 0))\n",
    "df_distance = df_future.withColumn(\n",
    "    \"distance_to_earth\", sqrt(col(\"future_x\")**2 + col(\"future_y\")**2 + col(\"future_z\")**2)\n",
    ")"
   ]
  },
  {
   "cell_type": "code",
   "execution_count": 14,
   "metadata": {},
   "outputs": [],
   "source": [
    "# Filtrer pour ne garder que les astéroïdes \n",
    "df_distance = df_distance.filter(col(\"id\") != \"Earth\")"
   ]
  },
  {
   "cell_type": "code",
   "execution_count": 15,
   "metadata": {},
   "outputs": [],
   "source": [
    "# Vérification de la collision (distance < rayon de la Terre + petit seuil pour l'astéroïde)\n",
    "collision_threshold = 6371 + 1  # Rayon de la Terre (6371 km) + 1 km pour l'astéroïde\n",
    "\n",
    "df_collision = df_distance.withColumn(\n",
    "    \"collision\", col(\"distance_to_earth\") < collision_threshold\n",
    ")"
   ]
  },
  {
   "cell_type": "code",
   "execution_count": 16,
   "metadata": {},
   "outputs": [
    {
     "name": "stdout",
     "output_type": "stream",
     "text": [
      "+------------+--------------------+--------------------+--------------------+---------------------+---------+\n",
      "|id          |future_x            |future_y            |future_z            |distance_to_earth    |collision|\n",
      "+------------+--------------------+--------------------+--------------------+---------------------+---------+\n",
      "|asteroid_446|5.62114836992E9     |7.74638200283E9     |-3.44593413825E9    |1.0172423763075325E10|false    |\n",
      "|asteroid_900|7.67043105609E9     |-1.68494906097E9    |9.1674450432E8      |7.906641917432114E9  |false    |\n",
      "|asteroid_843|3.76282151794E9     |-4.36860435839E9    |-6.25557210213E9    |8.507391617938106E9  |false    |\n",
      "|asteroid_644|3.8194584286E9      |-1.62117367345E9    |4.2553748549899993E9|5.943457068388069E9  |false    |\n",
      "|asteroid_781|-5.07810045905E9    |4.66550620254E9     |-4.4054393248E8     |6.910002268783128E9  |false    |\n",
      "|asteroid_909|4.70634742691E9     |-3.30647671424E9    |5.40773588742E9     |7.894688201106102E9  |false    |\n",
      "|asteroid_766|6.704115453770001E9 |-3.166086965199999E8|1.8618902575E9      |6.96505853637737E9   |false    |\n",
      "|asteroid_097|-7.526185627719999E9|-4.3122900616E9     |-6.73047900426E9    |1.0979010124098524E10|false    |\n",
      "|asteroid_339|2.5597374480000004E8|6.96001221059E9     |-1.79764168805E9    |7.192969356823653E9  |false    |\n",
      "|asteroid_513|4.811187689E7       |-4.69183422801E9    |6.71331992046E9     |8.190499833970399E9  |false    |\n",
      "|asteroid_284|4.26116472359E9     |-7.80071145405E9    |4.00286331986E9     |9.748412114205849E9  |false    |\n",
      "|asteroid_249|1.09588084029E9     |4.41562163725E9     |-3.03591819686E9    |5.469503501917771E9  |false    |\n",
      "|asteroid_831|-7.730114254250001E9|4.95052480469E9     |6.49242236246E9     |1.1243394076442429E10|false    |\n",
      "|asteroid_009|2.36373956473E9     |7.001084516600001E8 |-3.42519810986E9    |4.220118323666322E9  |false    |\n",
      "|asteroid_184|-6.5254015275E8     |-4.58998218193E9    |7.65943846724E9     |8.953253191707565E9  |false    |\n",
      "|asteroid_662|3.01241553641E9     |-1.52863382223E9    |5.3068970118E8      |3.419502929580316E9  |false    |\n",
      "|asteroid_518|-5.52259031305E9    |-5.78913547469E9    |5.53063024326E9     |9.72630269926708E9   |false    |\n",
      "|asteroid_961|6.13951096271E9     |-3.6482026623E8     |1.4698725137E8      |6.15209671087457E9   |false    |\n",
      "|asteroid_360|7.81466208406E9     |-7.40580718455E9    |4.78916691378E9     |1.1783507256789993E10|false    |\n",
      "|asteroid_162|3.6758425327E8      |1.02905518139E9     |-5.13222819815E9    |5.247269673600135E9  |false    |\n",
      "+------------+--------------------+--------------------+--------------------+---------------------+---------+\n",
      "only showing top 20 rows\n",
      "\n"
     ]
    }
   ],
   "source": [
    "# Afficher les résultats\n",
    "df_collision.select(\"id\", \"future_x\", \"future_y\", \"future_z\", \"distance_to_earth\", \"collision\").show(truncate=False)"
   ]
  },
  {
   "cell_type": "code",
   "execution_count": 17,
   "metadata": {},
   "outputs": [],
   "source": [
    "df_collision = df_collision.withColumn(\"collision\", col(\"collision\").cast(\"double\"))"
   ]
  },
  {
   "cell_type": "code",
   "execution_count": 18,
   "metadata": {},
   "outputs": [
    {
     "name": "stdout",
     "output_type": "stream",
     "text": [
      "root\n",
      " |-- id: string (nullable = true)\n",
      " |-- type: string (nullable = true)\n",
      " |-- mass: double (nullable = true)\n",
      " |-- size: double (nullable = true)\n",
      " |-- x: double (nullable = true)\n",
      " |-- y: double (nullable = true)\n",
      " |-- z: double (nullable = true)\n",
      " |-- vx: double (nullable = true)\n",
      " |-- vy: double (nullable = true)\n",
      " |-- vz: double (nullable = true)\n",
      " |-- future_x: double (nullable = true)\n",
      " |-- future_y: double (nullable = true)\n",
      " |-- future_z: double (nullable = true)\n",
      " |-- distance_to_earth: double (nullable = true)\n",
      " |-- collision: double (nullable = true)\n",
      "\n"
     ]
    }
   ],
   "source": [
    "df_collision.printSchema()"
   ]
  },
  {
   "cell_type": "markdown",
   "metadata": {},
   "source": [
    "## Prediction "
   ]
  },
  {
   "cell_type": "code",
   "execution_count": 19,
   "metadata": {},
   "outputs": [
    {
     "name": "stdout",
     "output_type": "stream",
     "text": [
      "+------------+--------------------+\n",
      "|          id|     scaled_features|\n",
      "+------------+--------------------+\n",
      "|asteroid_446|[1.11594523070702...|\n",
      "|asteroid_900|[2.25698120089069...|\n",
      "|asteroid_843|[1.26801022944170...|\n",
      "|asteroid_644|[2.81709232882425...|\n",
      "|asteroid_781|[1.56235905711047...|\n",
      "+------------+--------------------+\n",
      "only showing top 5 rows\n",
      "\n"
     ]
    }
   ],
   "source": [
    "# Liste des colonnes d'entrée\n",
    "input_cols = [\"mass\", \"size\", \"x\", \"y\", \"z\", \"vx\", \"vy\", \"vz\", \"future_x\", \"future_y\", \"future_z\", \"distance_to_earth\"]\n",
    "\n",
    "# Assemblage des colonnes d'entrée en une colonne \"features\"\n",
    "assembler = VectorAssembler(inputCols=input_cols, outputCol=\"features\")\n",
    "df_assembled = assembler.transform(df_collision)\n",
    "\n",
    "# Appliquer la normalisation (ou standardisation) avec StandardScaler\n",
    "scaler = StandardScaler(inputCol=\"features\", outputCol=\"scaled_features\")\n",
    "scaler_model = scaler.fit(df_assembled)\n",
    "df_scaled = scaler_model.transform(df_assembled)\n",
    "\n",
    "# Afficher les données avec les caractéristiques normalisées\n",
    "df_scaled.select(\"id\", \"scaled_features\").show(5)\n"
   ]
  },
  {
   "cell_type": "code",
   "execution_count": 20,
   "metadata": {},
   "outputs": [
    {
     "name": "stdout",
     "output_type": "stream",
     "text": [
      "Ensemble d'entraînement : 67 lignes\n",
      "Ensemble de test : 17 lignes\n"
     ]
    }
   ],
   "source": [
    "# Diviser les données en 80% entraînement et 20% test\n",
    "train_df, test_df = df_scaled.randomSplit([0.8, 0.2], seed=42)\n",
    "\n",
    "# Afficher la taille des ensembles\n",
    "print(f\"Ensemble d'entraînement : {train_df.count()} lignes\")\n",
    "print(f\"Ensemble de test : {test_df.count()} lignes\")\n"
   ]
  },
  {
   "cell_type": "code",
   "execution_count": 21,
   "metadata": {},
   "outputs": [
    {
     "name": "stdout",
     "output_type": "stream",
     "text": [
      "root\n",
      " |-- id: string (nullable = true)\n",
      " |-- type: string (nullable = true)\n",
      " |-- mass: double (nullable = true)\n",
      " |-- size: double (nullable = true)\n",
      " |-- x: double (nullable = true)\n",
      " |-- y: double (nullable = true)\n",
      " |-- z: double (nullable = true)\n",
      " |-- vx: double (nullable = true)\n",
      " |-- vy: double (nullable = true)\n",
      " |-- vz: double (nullable = true)\n",
      " |-- future_x: double (nullable = true)\n",
      " |-- future_y: double (nullable = true)\n",
      " |-- future_z: double (nullable = true)\n",
      " |-- distance_to_earth: double (nullable = true)\n",
      " |-- collision: double (nullable = true)\n",
      " |-- features: vector (nullable = true)\n",
      " |-- scaled_features: vector (nullable = true)\n",
      "\n"
     ]
    }
   ],
   "source": [
    "# Vérifier les types de colonnes dans le DataFrame\n",
    "df_scaled.printSchema()\n"
   ]
  },
  {
   "cell_type": "code",
   "execution_count": 22,
   "metadata": {},
   "outputs": [
    {
     "name": "stdout",
     "output_type": "stream",
     "text": [
      "+------------+---------+----------+-----------+\n",
      "|          id|collision|prediction|probability|\n",
      "+------------+---------+----------+-----------+\n",
      "|asteroid_042|      0.0|       0.0|  [1.0,0.0]|\n",
      "|asteroid_081|      0.0|       0.0|  [1.0,0.0]|\n",
      "|asteroid_106|      0.0|       0.0|  [1.0,0.0]|\n",
      "|asteroid_163|      0.0|       0.0|  [1.0,0.0]|\n",
      "|asteroid_234|      0.0|       0.0|  [1.0,0.0]|\n",
      "+------------+---------+----------+-----------+\n",
      "only showing top 5 rows\n",
      "\n"
     ]
    }
   ],
   "source": [
    "# Entraîner un modèle de régression logistique\n",
    "lr = LogisticRegression(featuresCol=\"scaled_features\", labelCol=\"collision\")\n",
    "\n",
    "# Entraînement du modèle\n",
    "lr_model = lr.fit(train_df)\n",
    "\n",
    "# Prédictions sur l'ensemble de test\n",
    "predictions = lr_model.transform(test_df)\n",
    "\n",
    "# Afficher les prédictions\n",
    "predictions.select(\"id\", \"collision\", \"prediction\", \"probability\").show(5)\n"
   ]
  },
  {
   "cell_type": "code",
   "execution_count": 23,
   "metadata": {},
   "outputs": [
    {
     "name": "stdout",
     "output_type": "stream",
     "text": [
      "AUC du modèle auto : 0.0\n"
     ]
    }
   ],
   "source": [
    "# Définir l'évaluateur pour la classification binaire\n",
    "evaluator = BinaryClassificationEvaluator(labelCol=\"collision\", rawPredictionCol=\"prediction\")\n",
    "\n",
    "# Calculer l'AUC (Area Under Curve)\n",
    "auc = evaluator.evaluate(predictions)\n",
    "\n",
    "# Afficher l'AUC avec le nom du modèle\n",
    "print(f\"AUC du modèle {lr.getOrDefault('family')} : {auc}\")"
   ]
  },
  {
   "cell_type": "code",
   "execution_count": 24,
   "metadata": {},
   "outputs": [
    {
     "name": "stdout",
     "output_type": "stream",
     "text": [
      "AUC du modèle RandomForest : 0.0\n"
     ]
    }
   ],
   "source": [
    "from pyspark.ml.classification import RandomForestClassifier\n",
    "\n",
    "# Créer un modèle RandomForest\n",
    "rf = RandomForestClassifier(featuresCol=\"scaled_features\", labelCol=\"collision\")\n",
    "\n",
    "# Entraîner le modèle\n",
    "rf_model = rf.fit(train_df)\n",
    "\n",
    "# Prédictions\n",
    "predictions = rf_model.transform(test_df)\n",
    "\n",
    "# Calculer l'AUC\n",
    "auc = evaluator.evaluate(predictions)\n",
    "print(f\"AUC du modèle RandomForest : {auc}\")\n"
   ]
  }
 ],
 "metadata": {
  "kernelspec": {
   "display_name": "Python 3 (ipykernel)",
   "language": "python",
   "name": "python3"
  },
  "language_info": {
   "codemirror_mode": {
    "name": "ipython",
    "version": 3
   },
   "file_extension": ".py",
   "mimetype": "text/x-python",
   "name": "python",
   "nbconvert_exporter": "python",
   "pygments_lexer": "ipython3",
   "version": "3.11.6"
  }
 },
 "nbformat": 4,
 "nbformat_minor": 4
}
